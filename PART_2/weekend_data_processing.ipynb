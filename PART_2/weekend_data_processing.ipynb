{
 "cells": [
  {
   "cell_type": "code",
   "execution_count": 1,
   "id": "cfaaf40d",
   "metadata": {},
   "outputs": [],
   "source": [
    "import pandas as pd"
   ]
  },
  {
   "cell_type": "code",
   "execution_count": 7,
   "id": "e296a43f",
   "metadata": {},
   "outputs": [],
   "source": [
    "df1 = pd.read_csv('data_2023-02-11.csv', delimiter=';')"
   ]
  },
  {
   "cell_type": "code",
   "execution_count": 8,
   "id": "5af46dc2",
   "metadata": {},
   "outputs": [
    {
     "data": {
      "text/html": [
       "<div>\n",
       "<style scoped>\n",
       "    .dataframe tbody tr th:only-of-type {\n",
       "        vertical-align: middle;\n",
       "    }\n",
       "\n",
       "    .dataframe tbody tr th {\n",
       "        vertical-align: top;\n",
       "    }\n",
       "\n",
       "    .dataframe thead th {\n",
       "        text-align: right;\n",
       "    }\n",
       "</style>\n",
       "<table border=\"1\" class=\"dataframe\">\n",
       "  <thead>\n",
       "    <tr style=\"text-align: right;\">\n",
       "      <th></th>\n",
       "      <th>company</th>\n",
       "      <th>metric_id</th>\n",
       "      <th>metric_desc</th>\n",
       "      <th>metric_value</th>\n",
       "      <th>metric_date</th>\n",
       "    </tr>\n",
       "  </thead>\n",
       "  <tbody>\n",
       "    <tr>\n",
       "      <th>0</th>\n",
       "      <td>i-bank</td>\n",
       "      <td>1</td>\n",
       "      <td>active contracts</td>\n",
       "      <td>10000</td>\n",
       "      <td>2023-02-11</td>\n",
       "    </tr>\n",
       "    <tr>\n",
       "      <th>1</th>\n",
       "      <td>i-bank</td>\n",
       "      <td>2</td>\n",
       "      <td>active customers</td>\n",
       "      <td>50000</td>\n",
       "      <td>2023-02-11</td>\n",
       "    </tr>\n",
       "    <tr>\n",
       "      <th>2</th>\n",
       "      <td>i-bank</td>\n",
       "      <td>3</td>\n",
       "      <td>employees count</td>\n",
       "      <td>100</td>\n",
       "      <td>2023-02-11</td>\n",
       "    </tr>\n",
       "    <tr>\n",
       "      <th>3</th>\n",
       "      <td>i-bank</td>\n",
       "      <td>4</td>\n",
       "      <td>active partners</td>\n",
       "      <td>1000</td>\n",
       "      <td>2023-02-11</td>\n",
       "    </tr>\n",
       "    <tr>\n",
       "      <th>4</th>\n",
       "      <td>i-bank</td>\n",
       "      <td>5</td>\n",
       "      <td>unique products</td>\n",
       "      <td>5</td>\n",
       "      <td>2023-02-11</td>\n",
       "    </tr>\n",
       "  </tbody>\n",
       "</table>\n",
       "</div>"
      ],
      "text/plain": [
       "  company  metric_id       metric_desc  metric_value metric_date\n",
       "0  i-bank          1  active contracts         10000  2023-02-11\n",
       "1  i-bank          2  active customers         50000  2023-02-11\n",
       "2  i-bank          3   employees count           100  2023-02-11\n",
       "3  i-bank          4   active partners          1000  2023-02-11\n",
       "4  i-bank          5   unique products             5  2023-02-11"
      ]
     },
     "execution_count": 8,
     "metadata": {},
     "output_type": "execute_result"
    }
   ],
   "source": [
    "df1"
   ]
  },
  {
   "cell_type": "code",
   "execution_count": 9,
   "id": "ae4094c7",
   "metadata": {},
   "outputs": [],
   "source": [
    "df2 = pd.read_csv('data_2023-02-12.csv', delimiter=';')"
   ]
  },
  {
   "cell_type": "code",
   "execution_count": 10,
   "id": "e0412764",
   "metadata": {},
   "outputs": [
    {
     "data": {
      "text/html": [
       "<div>\n",
       "<style scoped>\n",
       "    .dataframe tbody tr th:only-of-type {\n",
       "        vertical-align: middle;\n",
       "    }\n",
       "\n",
       "    .dataframe tbody tr th {\n",
       "        vertical-align: top;\n",
       "    }\n",
       "\n",
       "    .dataframe thead th {\n",
       "        text-align: right;\n",
       "    }\n",
       "</style>\n",
       "<table border=\"1\" class=\"dataframe\">\n",
       "  <thead>\n",
       "    <tr style=\"text-align: right;\">\n",
       "      <th></th>\n",
       "      <th>company</th>\n",
       "      <th>metric_id</th>\n",
       "      <th>metric_desc</th>\n",
       "      <th>metric_value</th>\n",
       "      <th>metric_date</th>\n",
       "    </tr>\n",
       "  </thead>\n",
       "  <tbody>\n",
       "    <tr>\n",
       "      <th>0</th>\n",
       "      <td>i-bank</td>\n",
       "      <td>1</td>\n",
       "      <td>active contracts</td>\n",
       "      <td>12000</td>\n",
       "      <td>2023-02-12</td>\n",
       "    </tr>\n",
       "    <tr>\n",
       "      <th>1</th>\n",
       "      <td>i-bank</td>\n",
       "      <td>2</td>\n",
       "      <td>active customers</td>\n",
       "      <td>50500</td>\n",
       "      <td>2023-02-12</td>\n",
       "    </tr>\n",
       "    <tr>\n",
       "      <th>2</th>\n",
       "      <td>i-bank</td>\n",
       "      <td>3</td>\n",
       "      <td>employees count</td>\n",
       "      <td>101</td>\n",
       "      <td>2023-02-12</td>\n",
       "    </tr>\n",
       "    <tr>\n",
       "      <th>3</th>\n",
       "      <td>i-bank</td>\n",
       "      <td>4</td>\n",
       "      <td>active partners</td>\n",
       "      <td>1005</td>\n",
       "      <td>2023-02-12</td>\n",
       "    </tr>\n",
       "    <tr>\n",
       "      <th>4</th>\n",
       "      <td>i-bank</td>\n",
       "      <td>5</td>\n",
       "      <td>unique products</td>\n",
       "      <td>5</td>\n",
       "      <td>2023-02-12</td>\n",
       "    </tr>\n",
       "  </tbody>\n",
       "</table>\n",
       "</div>"
      ],
      "text/plain": [
       "  company  metric_id       metric_desc  metric_value metric_date\n",
       "0  i-bank          1  active contracts         12000  2023-02-12\n",
       "1  i-bank          2  active customers         50500  2023-02-12\n",
       "2  i-bank          3   employees count           101  2023-02-12\n",
       "3  i-bank          4   active partners          1005  2023-02-12\n",
       "4  i-bank          5   unique products             5  2023-02-12"
      ]
     },
     "execution_count": 10,
     "metadata": {},
     "output_type": "execute_result"
    }
   ],
   "source": [
    "df2"
   ]
  },
  {
   "cell_type": "markdown",
   "id": "8aeb0d3d",
   "metadata": {},
   "source": [
    "## Unionized data for weekend"
   ]
  },
  {
   "cell_type": "code",
   "execution_count": 12,
   "id": "b04ffd8d",
   "metadata": {},
   "outputs": [
    {
     "data": {
      "text/html": [
       "<div>\n",
       "<style scoped>\n",
       "    .dataframe tbody tr th:only-of-type {\n",
       "        vertical-align: middle;\n",
       "    }\n",
       "\n",
       "    .dataframe tbody tr th {\n",
       "        vertical-align: top;\n",
       "    }\n",
       "\n",
       "    .dataframe thead th {\n",
       "        text-align: right;\n",
       "    }\n",
       "</style>\n",
       "<table border=\"1\" class=\"dataframe\">\n",
       "  <thead>\n",
       "    <tr style=\"text-align: right;\">\n",
       "      <th></th>\n",
       "      <th>company</th>\n",
       "      <th>metric_id</th>\n",
       "      <th>metric_desc</th>\n",
       "      <th>metric_value</th>\n",
       "      <th>metric_date</th>\n",
       "    </tr>\n",
       "  </thead>\n",
       "  <tbody>\n",
       "    <tr>\n",
       "      <th>0</th>\n",
       "      <td>i-bank</td>\n",
       "      <td>1</td>\n",
       "      <td>active contracts</td>\n",
       "      <td>10000</td>\n",
       "      <td>2023-02-11</td>\n",
       "    </tr>\n",
       "    <tr>\n",
       "      <th>1</th>\n",
       "      <td>i-bank</td>\n",
       "      <td>2</td>\n",
       "      <td>active customers</td>\n",
       "      <td>50000</td>\n",
       "      <td>2023-02-11</td>\n",
       "    </tr>\n",
       "    <tr>\n",
       "      <th>2</th>\n",
       "      <td>i-bank</td>\n",
       "      <td>3</td>\n",
       "      <td>employees count</td>\n",
       "      <td>100</td>\n",
       "      <td>2023-02-11</td>\n",
       "    </tr>\n",
       "    <tr>\n",
       "      <th>3</th>\n",
       "      <td>i-bank</td>\n",
       "      <td>4</td>\n",
       "      <td>active partners</td>\n",
       "      <td>1000</td>\n",
       "      <td>2023-02-11</td>\n",
       "    </tr>\n",
       "    <tr>\n",
       "      <th>4</th>\n",
       "      <td>i-bank</td>\n",
       "      <td>5</td>\n",
       "      <td>unique products</td>\n",
       "      <td>5</td>\n",
       "      <td>2023-02-11</td>\n",
       "    </tr>\n",
       "    <tr>\n",
       "      <th>0</th>\n",
       "      <td>i-bank</td>\n",
       "      <td>1</td>\n",
       "      <td>active contracts</td>\n",
       "      <td>12000</td>\n",
       "      <td>2023-02-12</td>\n",
       "    </tr>\n",
       "    <tr>\n",
       "      <th>1</th>\n",
       "      <td>i-bank</td>\n",
       "      <td>2</td>\n",
       "      <td>active customers</td>\n",
       "      <td>50500</td>\n",
       "      <td>2023-02-12</td>\n",
       "    </tr>\n",
       "    <tr>\n",
       "      <th>2</th>\n",
       "      <td>i-bank</td>\n",
       "      <td>3</td>\n",
       "      <td>employees count</td>\n",
       "      <td>101</td>\n",
       "      <td>2023-02-12</td>\n",
       "    </tr>\n",
       "    <tr>\n",
       "      <th>3</th>\n",
       "      <td>i-bank</td>\n",
       "      <td>4</td>\n",
       "      <td>active partners</td>\n",
       "      <td>1005</td>\n",
       "      <td>2023-02-12</td>\n",
       "    </tr>\n",
       "    <tr>\n",
       "      <th>4</th>\n",
       "      <td>i-bank</td>\n",
       "      <td>5</td>\n",
       "      <td>unique products</td>\n",
       "      <td>5</td>\n",
       "      <td>2023-02-12</td>\n",
       "    </tr>\n",
       "  </tbody>\n",
       "</table>\n",
       "</div>"
      ],
      "text/plain": [
       "  company  metric_id       metric_desc  metric_value metric_date\n",
       "0  i-bank          1  active contracts         10000  2023-02-11\n",
       "1  i-bank          2  active customers         50000  2023-02-11\n",
       "2  i-bank          3   employees count           100  2023-02-11\n",
       "3  i-bank          4   active partners          1000  2023-02-11\n",
       "4  i-bank          5   unique products             5  2023-02-11\n",
       "0  i-bank          1  active contracts         12000  2023-02-12\n",
       "1  i-bank          2  active customers         50500  2023-02-12\n",
       "2  i-bank          3   employees count           101  2023-02-12\n",
       "3  i-bank          4   active partners          1005  2023-02-12\n",
       "4  i-bank          5   unique products             5  2023-02-12"
      ]
     },
     "execution_count": 12,
     "metadata": {},
     "output_type": "execute_result"
    }
   ],
   "source": [
    "unioned_df = pd.concat([df1, df2])\n",
    "unioned_df"
   ]
  },
  {
   "cell_type": "code",
   "execution_count": 20,
   "id": "432d350f",
   "metadata": {},
   "outputs": [],
   "source": [
    "current_timestamp = pd.Timestamp.now()\n",
    "unioned_df.insert(5,'combined_date', current_timestamp)"
   ]
  },
  {
   "cell_type": "code",
   "execution_count": 22,
   "id": "29fa0a3f",
   "metadata": {},
   "outputs": [],
   "source": [
    "unioned_df.to_csv('unioned_weekend_data.csv')"
   ]
  },
  {
   "cell_type": "markdown",
   "id": "70c26a76",
   "metadata": {},
   "source": [
    "## Aggregated data for weekend"
   ]
  },
  {
   "cell_type": "code",
   "execution_count": 25,
   "id": "2464e31b",
   "metadata": {},
   "outputs": [],
   "source": [
    "combined_df = pd.concat([df1, df2])\n",
    "\n",
    "combined_df = combined_df.groupby(['company', 'metric_id', 'metric_desc'], as_index=False)['metric_value'].sum()\n",
    "\n",
    "combined_df.insert(4, 'aggregated_data_date', current_timestamp)"
   ]
  },
  {
   "cell_type": "code",
   "execution_count": 27,
   "id": "eabb25a3",
   "metadata": {},
   "outputs": [],
   "source": [
    "combined_df.to_csv('aggregated_weekend_data.csv')"
   ]
  },
  {
   "cell_type": "code",
   "execution_count": null,
   "id": "9526b5b2",
   "metadata": {},
   "outputs": [],
   "source": []
  }
 ],
 "metadata": {
  "kernelspec": {
   "display_name": "Python 3 (ipykernel)",
   "language": "python",
   "name": "python3"
  },
  "language_info": {
   "codemirror_mode": {
    "name": "ipython",
    "version": 3
   },
   "file_extension": ".py",
   "mimetype": "text/x-python",
   "name": "python",
   "nbconvert_exporter": "python",
   "pygments_lexer": "ipython3",
   "version": "3.11.5"
  }
 },
 "nbformat": 4,
 "nbformat_minor": 5
}
